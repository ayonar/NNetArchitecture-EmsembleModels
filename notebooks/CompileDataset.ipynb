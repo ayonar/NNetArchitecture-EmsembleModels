{
 "cells": [
  {
   "cell_type": "markdown",
   "metadata": {
    "collapsed": true
   },
   "source": [
    "### Compile Dataset into pickle file"
   ]
  },
  {
   "cell_type": "code",
   "execution_count": 4,
   "metadata": {
    "collapsed": true
   },
   "outputs": [],
   "source": [
    "from PIL import Image\n",
    "import numpy as np\n",
    "import os\n",
    "import glob\n",
    "import pickle\n",
    "import matplotlib.pyplot as plt"
   ]
  },
  {
   "cell_type": "code",
   "execution_count": 5,
   "metadata": {},
   "outputs": [],
   "source": [
    "def load_dataset(mypath) :\n",
    "    data = []\n",
    "    for fname in os.listdir(mypath):\n",
    "        pathname = os.path.join(mypath, fname)\n",
    "        #img = Image.open(pathname)\n",
    "        #data.append(img)\n",
    "        with Image.open(pathname) as img:\n",
    "            img2 = np.array(img)\n",
    "            data.append(img2)\n",
    "    return data"
   ]
  },
  {
   "cell_type": "code",
   "execution_count": 24,
   "metadata": {},
   "outputs": [],
   "source": [
    "dataset_dir = os.path.abspath('./data')\n",
    "dataset_dir\n",
    "mypaths=[os.path.dirname(dataset_dir + \"/PolygonImagesV7/3/image_0.png\"),\n",
    "         os.path.dirname(dataset_dir + \"/PolygonImagesV7/4/image_20000.png\"),\n",
    "         os.path.dirname(dataset_dir + \"/PolygonImagesV7/5/image_40000.png\")]\n",
    "dataset = []\n",
    "for mypath in mypaths:\n",
    "    tempdata = load_dataset(mypath)\n",
    "    data = np.array(tempdata)\n",
    "    np.random.shuffle(data)\n",
    "    dataset.append(data)"
   ]
  },
  {
   "cell_type": "code",
   "execution_count": 77,
   "metadata": {
    "collapsed": true
   },
   "outputs": [],
   "source": [
    "# split dataset into train validatin and test sets.\n",
    "train_x = np.concatenate((dataset[0][:12000], dataset[1][:12000], dataset[2][:12000]), axis=0)\n",
    "val_x = np.concatenate((dataset[0][12000:16000], dataset[1][12000:16000], dataset[2][12000:16000]), axis=0)\n",
    "test_x = np.concatenate((dataset[0][16000:20000], dataset[1][16000:20000], dataset[2][16000:20000]), axis=0)\n",
    "\n",
    "train_y = np.concatenate(( np.zeros(int(len(train_x)/len(mypaths))) , np.ones(int(len(train_x)/len(mypaths))) , 2*np.ones(int(len(train_x)/len(mypaths))) ) , axis=0)\n",
    "val_y = np.concatenate(( np.zeros(int(len(val_x)/len(mypaths))) , np.ones(int(len(val_x)/len(mypaths))) , 2*np.ones(int(len(val_x)/len(mypaths))) ) , axis=0)\n",
    "test_y = np.concatenate(( np.zeros(int(len(test_x)/len(mypaths))) , np.ones(int(len(test_x)/len(mypaths))) , 2*np.ones(int(len(test_x)/len(mypaths))) ) , axis=0)\n",
    "\n",
    "# could use glob. think about it"
   ]
  },
  {
   "cell_type": "code",
   "execution_count": 78,
   "metadata": {
    "collapsed": true
   },
   "outputs": [],
   "source": [
    "del (data, dataset, tempdata, mypath, mypaths, Image, glob, load_dataset, np, os, pickle, plt)"
   ]
  },
  {
   "cell_type": "code",
   "execution_count": 80,
   "metadata": {},
   "outputs": [
    {
     "name": "stdout",
     "output_type": "stream",
     "text": [
      "Variable   Type       Data/Info\n",
      "-------------------------------\n",
      "dill       module     <module 'dill' from 'C:\\\\<...>ages\\\\dill\\\\__init__.py'>\n",
      "filename   str        PolygonImagesV7.pkl\n",
      "test_x     ndarray    12000x45x45: 24300000 elems, type `uint8`, 24300000 bytes (23.174285888671875 Mb)\n",
      "test_y     ndarray    12000: 12000 elems, type `float64`, 96000 bytes\n",
      "train_x    ndarray    36000x45x45: 72900000 elems, type `uint8`, 72900000 bytes (69.52285766601562 Mb)\n",
      "train_y    ndarray    36000: 36000 elems, type `float64`, 288000 bytes (281.25 kb)\n",
      "val_x      ndarray    12000x45x45: 24300000 elems, type `uint8`, 24300000 bytes (23.174285888671875 Mb)\n",
      "val_y      ndarray    12000: 12000 elems, type `float64`, 96000 bytes\n"
     ]
    }
   ],
   "source": [
    "whos"
   ]
  },
  {
   "cell_type": "code",
   "execution_count": 70,
   "metadata": {},
   "outputs": [
    {
     "data": {
      "image/png": "[encoded data removed]",
      "text/plain": [
       "<matplotlib.figure.Figure at 0xdbc2048>"
      ]
     },
     "metadata": {},
     "output_type": "display_data"
    }
   ],
   "source": [
    "plt.imshow(dataset[0][0])\n",
    "plt.show()"
   ]
  },
  {
   "cell_type": "code",
   "execution_count": 79,
   "metadata": {
    "collapsed": true
   },
   "outputs": [],
   "source": [
    "import dill\n",
    "filename = 'PolygonImagesV7.pkl'\n",
    "dill.dump_session(filename)"
   ]
  },
  {
   "cell_type": "code",
   "execution_count": null,
   "metadata": {
    "collapsed": true
   },
   "outputs": [],
   "source": [
    "# alternative pickle - Not in use.\n",
    "import pickle\n",
    "\n",
    "with open('PolygonImagesV3', 'wb') as f:\n",
    "    pickle.dump(train_x, f)\n",
    "    pickle.dump(val_x, f)\n",
    "    pickle.dump(test_x, f)\n",
    "    pickle.dump(train_y, f)\n",
    "    pickle.dump(val_y, f)\n",
    "    pickle.dump(test_y, f)\n",
    "    \n",
    "# for pickle above, you could use below to load.\n",
    "import pickle\n",
    "\n",
    "def load(filename):\n",
    "    with open(filename, \"rb\") as f:\n",
    "        while True:\n",
    "            try:\n",
    "                yield pickle.load(f)\n",
    "            except EOFError:\n",
    "                break\n",
    "\n",
    "items = load(myfilename)"
   ]
  },
  {
   "cell_type": "code",
   "execution_count": null,
   "metadata": {
    "collapsed": true
   },
   "outputs": [],
   "source": [
    "# Someone else's example didn't use it.\n",
    "\n",
    "from PIL import Image\n",
    "from numpy import genfromtxt\n",
    "import gzip, cPickle\n",
    "import pickle\n",
    "from glob import glob\n",
    "import numpy as np\n",
    "import pandas as pd\n",
    "\n",
    "def dir_to_dataset(glob_files, loc_train_labels=\"\"):\n",
    "    print(\"Gonna process:\\n\\t %s\"%glob_files)\n",
    "    dataset = []\n",
    "    for file_count, file_name in enumerate( sorted(glob(glob_files),key=len) ):\n",
    "        print file_name\n",
    "        print 'Are we in the loop ?'\n",
    "        image = Image.open(file_name)\n",
    "        img = Image.open(file_name).convert('LA') #tograyscale\n",
    "        pixels = [f[0] for f in list(img.getdata())]\n",
    "        dataset.append(pixels)\n",
    "        if file_count % 10== 0:\n",
    "            print(\"\\t %s files processed\"%file_count)\n",
    "    # outfile = glob_files+\"out\"\n",
    "    # np.save(outfile, dataset)\n",
    "    if len(loc_train_labels) > 0:\n",
    "        df = pd.read_csv(loc_train_labels)\n",
    "        return np.array(dataset), np.array(df[\"Class\"])\n",
    "    else:\n",
    "        return np.array(dataset)\n",
    "\n",
    "\n",
    "\n",
    "\n",
    "Dataa, y = dir_to_dataset(\"image\\\\*.bmp\",\"trainLabels.csv\") #change to *.bmp\n",
    "# Data and labels are read \n",
    "\n",
    "train_set_x = Dataa[:30]\n",
    "val_set_x = Dataa[31:40]\n",
    "test_set_x = Dataa[41:50]\n",
    "train_set_y = y[:30]\n",
    "val_set_y = y[31:40]\n",
    "test_set_y = y[41:50]\n",
    "# Divided dataset into 3 parts. I had 6281 images.\n",
    "\n",
    "train_set = train_set_x, train_set_y\n",
    "print 'Type of train_set_x',type(train_set_x)\n",
    "print train_set_x\n",
    "val_set = val_set_x, val_set_y\n",
    "test_set = test_set_x, val_set_y\n",
    "\n",
    "dataset = [train_set, val_set, test_set]\n",
    "\n",
    "f = gzip.open('traffic_file.pkl.gz','wb')\n",
    "pickle.dump(dataset, f, protocol=2)\n",
    "f.close()"
   ]
  }
 ],
 "metadata": {
  "kernelspec": {
   "display_name": "Python 3",
   "language": "python",
   "name": "python3"
  },
  "language_info": {
   "codemirror_mode": {
    "name": "ipython",
    "version": 3
   },
   "file_extension": ".py",
   "mimetype": "text/x-python",
   "name": "python",
   "nbconvert_exporter": "python",
   "pygments_lexer": "ipython3",
   "version": "3.7.7-final"
  }
 },
 "nbformat": 4,
 "nbformat_minor": 2
}