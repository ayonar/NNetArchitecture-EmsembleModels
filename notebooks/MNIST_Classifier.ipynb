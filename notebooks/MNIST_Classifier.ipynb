{
 "cells": [
  {
   "cell_type": "code",
   "execution_count": 2,
   "metadata": {},
   "outputs": [],
   "source": [
    "'''Trains a simple network on the MNIST dataset.\n",
    "'''\n",
    "\n",
    "from __future__ import print_function\n",
    "import keras\n",
    "from keras.datasets import mnist\n",
    "from keras.models import Sequential, Model \n",
    "from keras.layers import Input, Dense, Lambda, Flatten\n",
    "from keras import backend as K\n",
    "import numpy as np\n",
    "from keras import optimizers"
   ]
  },
  {
   "cell_type": "code",
   "execution_count": 3,
   "metadata": {},
   "outputs": [
    {
     "name": "stdout",
     "output_type": "stream",
     "text": [
      "(60000, 784)\n",
      "(10000, 784)\n",
      "(60000, 10)\n",
      "(10000, 10)\n"
     ]
    }
   ],
   "source": [
    "# Data Pre-Processing\n",
    "\n",
    "# input image dimensions\n",
    "img_rows, img_cols = 28, 28\n",
    "\n",
    "num_classes = 10\n",
    "\n",
    "# the data, shuffled and split between train and test sets\n",
    "(x_train, y_train), (x_test, y_test) = mnist.load_data()\n",
    "\n",
    "x_train = x_train.astype('float32') / 255.\n",
    "x_test = x_test.astype('float32') / 255.\n",
    "\n",
    "x_train = x_train.reshape((len(x_train), np.prod(x_train.shape[1:])))\n",
    "x_test = x_test.reshape((len(x_test), np.prod(x_test.shape[1:])))\n",
    "\n",
    "# less data\n",
    "## x_train = x_train[:15000]\n",
    "## x_test = x_test[:3000]\n",
    "## y_train = y_train[:15000]\n",
    "## y_test = y_test[:3000]\n",
    "\n",
    "y_train = keras.utils.to_categorical(y_train, num_classes)\n",
    "y_test = keras.utils.to_categorical(y_test, num_classes)\n",
    "\n",
    "print(x_train.shape)\n",
    "print(x_test.shape)\n",
    "print(y_train.shape)\n",
    "print(y_test.shape)"
   ]
  },
  {
   "cell_type": "code",
   "execution_count": 4,
   "metadata": {},
   "outputs": [],
   "source": [
    "input_img = Input(shape=(784,))\n",
    "x = Dense(100, activation='relu')(input_img)\n",
    "x = Dense(100, activation='relu')(x)\n",
    "output_class = Dense(10, activation='softmax')(x)\n",
    "\n",
    "model = Model(input_img, output_class)"
   ]
  },
  {
   "cell_type": "code",
   "execution_count": 5,
   "metadata": {},
   "outputs": [],
   "source": [
    "mysgd = optimizers.SGD(lr=0.01, momentum=0.0, decay=1e-4, nesterov=False)\n",
    "#opt = optimizers.Adam(lr=0.001)\n",
    "model.compile(optimizer='adadelta', loss='categorical_crossentropy', metrics=['accuracy'])"
   ]
  },
  {
   "cell_type": "code",
   "execution_count": 6,
   "metadata": {},
   "outputs": [
    {
     "name": "stdout",
     "output_type": "stream",
     "text": [
      "Train on 60000 samples, validate on 10000 samples\n",
      "Epoch 1/20\n",
      "60000/60000 [==============================] - 2s 29us/step - loss: 0.3286 - acc: 0.9037 - val_loss: 0.1568 - val_acc: 0.9532\n",
      "Epoch 2/20\n",
      "60000/60000 [==============================] - 2s 25us/step - loss: 0.1364 - acc: 0.9590 - val_loss: 0.1448 - val_acc: 0.9553\n",
      "Epoch 3/20\n",
      "60000/60000 [==============================] - 1s 23us/step - loss: 0.0989 - acc: 0.9705 - val_loss: 0.1154 - val_acc: 0.9626\n",
      "Epoch 4/20\n",
      "60000/60000 [==============================] - 1s 21us/step - loss: 0.0777 - acc: 0.9766 - val_loss: 0.0920 - val_acc: 0.9713\n",
      "Epoch 5/20\n",
      "60000/60000 [==============================] - 1s 22us/step - loss: 0.0636 - acc: 0.9805 - val_loss: 0.0919 - val_acc: 0.9717\n",
      "Epoch 6/20\n",
      "60000/60000 [==============================] - 1s 25us/step - loss: 0.0537 - acc: 0.9836 - val_loss: 0.0815 - val_acc: 0.9746\n",
      "Epoch 7/20\n",
      "60000/60000 [==============================] - 2s 26us/step - loss: 0.0450 - acc: 0.9866 - val_loss: 0.0890 - val_acc: 0.9738\n",
      "Epoch 8/20\n",
      "60000/60000 [==============================] - 1s 23us/step - loss: 0.0375 - acc: 0.9885 - val_loss: 0.0812 - val_acc: 0.9761\n",
      "Epoch 9/20\n",
      "60000/60000 [==============================] - 1s 22us/step - loss: 0.0327 - acc: 0.9898 - val_loss: 0.0822 - val_acc: 0.9732\n",
      "Epoch 10/20\n",
      "60000/60000 [==============================] - 1s 23us/step - loss: 0.0278 - acc: 0.9920 - val_loss: 0.0779 - val_acc: 0.9767\n",
      "Epoch 11/20\n",
      "60000/60000 [==============================] - 1s 24us/step - loss: 0.0244 - acc: 0.9931 - val_loss: 0.0797 - val_acc: 0.9771\n",
      "Epoch 12/20\n",
      "60000/60000 [==============================] - 1s 25us/step - loss: 0.0201 - acc: 0.9947 - val_loss: 0.0810 - val_acc: 0.9764\n",
      "Epoch 13/20\n",
      "60000/60000 [==============================] - 1s 23us/step - loss: 0.0178 - acc: 0.9953 - val_loss: 0.0780 - val_acc: 0.9791\n",
      "Epoch 14/20\n",
      "60000/60000 [==============================] - 1s 23us/step - loss: 0.0149 - acc: 0.9960 - val_loss: 0.0790 - val_acc: 0.9785\n",
      "Epoch 15/20\n",
      "60000/60000 [==============================] - 2s 25us/step - loss: 0.0131 - acc: 0.9965 - val_loss: 0.0818 - val_acc: 0.9780\n",
      "Epoch 16/20\n",
      "60000/60000 [==============================] - 1s 22us/step - loss: 0.0111 - acc: 0.9974 - val_loss: 0.0827 - val_acc: 0.9790\n",
      "Epoch 17/20\n",
      "60000/60000 [==============================] - 2s 27us/step - loss: 0.0098 - acc: 0.9978 - val_loss: 0.0876 - val_acc: 0.9781\n",
      "Epoch 18/20\n",
      "60000/60000 [==============================] - 1s 24us/step - loss: 0.0083 - acc: 0.9981 - val_loss: 0.0944 - val_acc: 0.9766\n",
      "Epoch 19/20\n",
      "60000/60000 [==============================] - 1s 24us/step - loss: 0.0072 - acc: 0.9983 - val_loss: 0.0911 - val_acc: 0.9783\n",
      "Epoch 20/20\n",
      "60000/60000 [==============================] - 1s 22us/step - loss: 0.0058 - acc: 0.9988 - val_loss: 0.0864 - val_acc: 0.9784\n",
      "Test loss: 0.0864235170947\n",
      "Test accuracy: 0.9784\n"
     ]
    }
   ],
   "source": [
    "batch_size = 128\n",
    "epochs = 20\n",
    "model.fit(x_train, y_train,\n",
    "          batch_size=batch_size,\n",
    "          epochs=epochs,\n",
    "          verbose=1,\n",
    "          validation_data=(x_test, y_test))\n",
    "\n",
    "score = model.evaluate(x_test, y_test, verbose=0)\n",
    "print('Test loss:', score[0])\n",
    "print('Test accuracy:', score[1])"
   ]
  }
 ],
 "metadata": {
  "kernelspec": {
   "display_name": "Python 3",
   "language": "python",
   "name": "python3"
  },
  "language_info": {
   "codemirror_mode": {
    "name": "ipython",
    "version": 3
   },
   "file_extension": ".py",
   "mimetype": "text/x-python",
   "name": "python",
   "nbconvert_exporter": "python",
   "pygments_lexer": "ipython3",
   "version": "3.5.4"
  }
 },
 "nbformat": 4,
 "nbformat_minor": 2
}