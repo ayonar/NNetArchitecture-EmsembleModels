{
 "cells": [
  {
   "cell_type": "code",
   "execution_count": 1,
   "metadata": {
    "collapsed": true
   },
   "outputs": [],
   "source": [
    "# Python 2.7\n",
    "\n",
    "import math, random\n",
    "from PIL import Image, ImageDraw\n",
    "import numpy as np\n",
    "from random import randint"
   ]
  },
  {
   "cell_type": "code",
   "execution_count": 2,
   "metadata": {
    "collapsed": true
   },
   "outputs": [],
   "source": [
    "\n",
    "def generatePolygon( ctrX, ctrY, aveRadius, irregularity, spikeyness, numVerts ) :\n",
    "    '''Start with the centre of the polygon at ctrX, ctrY, \n",
    "    then creates the polygon by sampling points on a circle around the centre. \n",
    "    Randon noise is added by varying the angular spacing between sequential points,\n",
    "    and by varying the radial distance of each point from the centre.\n",
    "\n",
    "    Params:\n",
    "    ctrX, ctrY - coordinates of the \"centre\" of the polygon\n",
    "    aveRadius - in px, the average radius of this polygon, this roughly controls how large the polygon is, really only useful for order of magnitude.\n",
    "    irregularity - [0,1] indicating how much variance there is in the angular spacing of vertices. [0,1] will map to [0, 2pi/numberOfVerts]\n",
    "    spikeyness - [0,1] indicating how much variance there is in each vertex from the circle of radius aveRadius. [0,1] will map to [0, aveRadius]\n",
    "    numVerts - self-explanatory\n",
    "\n",
    "    Returns a list of vertices, in CCW order.\n",
    "    '''\n",
    "\n",
    "    irregularity = clip( irregularity, 0,1 ) * 2*math.pi / numVerts\n",
    "    spikeyness = clip( spikeyness, 0,1 ) * aveRadius\n",
    "\n",
    "    # generate n angle steps\n",
    "    angleSteps = []\n",
    "    lower = (2*math.pi / numVerts) - irregularity\n",
    "    upper = (2*math.pi / numVerts) + irregularity\n",
    "    sum = 0\n",
    "    for i in range(numVerts) :\n",
    "        tmp = random.uniform(lower, upper)\n",
    "        angleSteps.append( tmp )\n",
    "        sum = sum + tmp\n",
    "\n",
    "    # normalize the steps so that point 0 and point n+1 are the same\n",
    "    k = sum / (2*math.pi)\n",
    "    for i in range(numVerts) :\n",
    "        angleSteps[i] = angleSteps[i] / k\n",
    "\n",
    "    # now generate the points\n",
    "    points = []\n",
    "    angle = random.uniform(0, 2*math.pi)\n",
    "    for i in range(numVerts) :\n",
    "        r_i = clip( random.gauss(aveRadius, spikeyness), 0, 2*aveRadius )\n",
    "        x = ctrX + r_i*math.cos(angle)\n",
    "        y = ctrY + r_i*math.sin(angle)\n",
    "        points.append( (int(x),int(y)) )\n",
    "\n",
    "        angle = angle + angleSteps[i]\n",
    "\n",
    "    return points\n",
    "\n",
    "def clip(x, min, max) :\n",
    "    if( min > max ):  return x\n",
    "    elif( x < min ):  return min\n",
    "    elif( x > max ):  return max\n",
    "    else:             return x"
   ]
  },
  {
   "cell_type": "code",
   "execution_count": 17,
   "metadata": {
    "collapsed": true
   },
   "outputs": [],
   "source": [
    "# Drawing single polygons\n",
    "verts = generatePolygon(14, 14, 8, 0.5, 0, 2)\n",
    "\n",
    "black = (0,0,0)\n",
    "white=(255,255,255)\n",
    "im = Image.new('L', (28, 28), 0)\n",
    "imPxAccess = im.load()\n",
    "draw = ImageDraw.Draw(im)\n",
    "tupVerts = map(tuple,verts)\n",
    "\n",
    "# either use .polygon(), if you want to fill the area with a solid colour\n",
    "draw.polygon( tupVerts, outline=255,fill=0 )\n",
    "\n",
    "# or .line() if you want to control the line thickness, or use both methods together!\n",
    "# draw.line( tupVerts+[tupVerts[0]], width=2, fill=black )\n"
   ]
  },
  {
   "cell_type": "markdown",
   "metadata": {},
   "source": [
    "## Generating various datasets to test learned statistical features"
   ]
  },
  {
   "cell_type": "code",
   "execution_count": 158,
   "metadata": {
    "collapsed": true
   },
   "outputs": [],
   "source": [
    "# generate dataset - centered polygons, 28x28 images\n",
    "for i in [3,4,5]:\n",
    "    triangles=np.zeros((784,1000))\n",
    "    for j in range(0,1000):\n",
    "        verts = generatePolygon(14, 14, 11, 0.5, 0, i)\n",
    "        im = Image.new('L', (28, 28), 0)\n",
    "        imPxAccess = im.load()\n",
    "        draw = ImageDraw.Draw(im)\n",
    "        tupVerts = map(tuple,verts)\n",
    "        draw.polygon( tupVerts, outline=255,fill=255 )\n",
    "        triangles[:,i] = np.array(im.getdata())\n",
    "        #im.save('test2','tiff')\n",
    "        "
   ]
  },
  {
   "cell_type": "code",
   "execution_count": 180,
   "metadata": {
    "collapsed": true
   },
   "outputs": [],
   "source": [
    "# Generate Datasets V1\n",
    "pentagons=np.zeros((784,1000))\n",
    "for j in range(0,1000):\n",
    "    verts = generatePolygon(15, 15, 11, 0.5, 0, 5)\n",
    "    im = Image.new('L', (28, 28), 0)\n",
    "    imPxAccess = im.load()\n",
    "    draw = ImageDraw.Draw(im)\n",
    "    tupVerts = map(tuple,verts)\n",
    "    draw.polygon( tupVerts, outline=255,fill=255 )\n",
    "    pentagons[:,j] = np.array(im.getdata())\n",
    "    im.save('image_' + str(j+2000) + '.png')\n",
    "        "
   ]
  },
  {
   "cell_type": "code",
   "execution_count": 181,
   "metadata": {
    "collapsed": true
   },
   "outputs": [],
   "source": [
    "np.savetxt(\"triangles\", triangles)\n",
    "np.savetxt(\"tetragons\", tetragons)\n",
    "np.savetxt(\"pentagons\", pentagons)"
   ]
  },
  {
   "cell_type": "code",
   "execution_count": 74,
   "metadata": {
    "collapsed": true
   },
   "outputs": [],
   "source": [
    "# Generate NEW Datasets with various object areas V2\n",
    "pentagons1=np.zeros((2025,1000))\n",
    "for j in range(0,1000):\n",
    "    verts = generatePolygon(23, 23, np.random.randint(11,17), 0.5, 0, 5)\n",
    "    im = Image.new('L', (45, 45), 0)\n",
    "    imPxAccess = im.load()\n",
    "    draw = ImageDraw.Draw(im)\n",
    "    tupVerts = map(tuple,verts)\n",
    "    draw.polygon( tupVerts, outline=255,fill=255 )\n",
    "    pentagons1[:,j] = np.array(im.getdata())\n",
    "    im.save('image_' + str(j+4000) + '.png')\n",
    "    \n",
    "#randint(13,21) for trianges\n",
    "#randint(12,19) for tetragons\n",
    "#randint(11,17) for pentagons"
   ]
  },
  {
   "cell_type": "code",
   "execution_count": 7,
   "metadata": {
    "collapsed": true
   },
   "outputs": [],
   "source": [
    "# Generate Datasets PolygonImages V3 distribution more overlapped compared to V2\n",
    "tempObject=np.zeros((2025,1000))\n",
    "for j in range(0,1000):\n",
    "    verts = generatePolygon(23, 23, np.random.randint(14,21), 0.5, 0, 3)\n",
    "    im = Image.new('L', (45, 45), 255)\n",
    "    imPxAccess = im.load()\n",
    "    draw = ImageDraw.Draw(im)\n",
    "    tupVerts = map(tuple,verts)\n",
    "    draw.polygon( tupVerts, outline=0,fill=0 )\n",
    "    tempObject[:,j] = np.array(im.getdata())\n",
    "    im.save('image_' + str(j+1000) + '.png')\n",
    "\n",
    "#Triangles1 = tempObject\n",
    "\n",
    "#randint(14,21) for trianges\n",
    "#randint(12,19) for tetragons\n",
    "#randint(11,17) for pentagons"
   ]
  },
  {
   "cell_type": "code",
   "execution_count": 16,
   "metadata": {
    "collapsed": true
   },
   "outputs": [],
   "source": [
    "# Generate Datasets PolygonImages V4 translational invariance\n",
    "# This can be useful to figre out convNet from fullyconnected Network\n",
    "tempObject=np.zeros((3600,1000))\n",
    "a=0\n",
    "b=255\n",
    "for j in range(0,1000):\n",
    "    verts = generatePolygon(30+np.random.randint(-8,8), 30+np.random.randint(-8,8), np.random.randint(11,17), 0.5, 0, 3)\n",
    "    im = Image.new('L', (60, 60), a)\n",
    "    imPxAccess = im.load()\n",
    "    draw = ImageDraw.Draw(im)\n",
    "    tupVerts = map(tuple,verts)\n",
    "    draw.polygon( tupVerts, outline=b,fill=a )\n",
    "    tempObject[:,j] = np.array(im.getdata())\n",
    "    im.save('image_' + str(j+0) + '.png')\n",
    "\n",
    "#Triangles1 = tempObject\n",
    "\n",
    "#randint(14,21) for trianges\n",
    "#randint(12,19) for tetragons\n",
    "#randint(11,17) for pentagons"
   ]
  },
  {
   "cell_type": "code",
   "execution_count": 43,
   "metadata": {
    "collapsed": true
   },
   "outputs": [],
   "source": [
    "# V5 just more number of images compare to V4 and filled.\n",
    "# Generate Datasets PolygonImages V5 translational invariance.\n",
    "# *** This can be useful to figre out convNet from fullyconnectedNet ***\n",
    "r=[14,21,12,19,11,17]\n",
    "c=0\n",
    "cc=0\n",
    "for x in range(3,6):\n",
    "    for a in [0,255]:\n",
    "        \n",
    "        tempObject=np.zeros((3600,3000))\n",
    "        if a==0:\n",
    "            b=255\n",
    "        else:\n",
    "            b=0\n",
    "        \n",
    "        for j in range(0,3000):\n",
    "            verts = generatePolygon(30+np.random.randint(-8,8), 30+np.random.randint(-8,8), np.random.randint(r[cc],r[cc+1]), 0.5, 0, x)\n",
    "            im = Image.new('L', (60, 60), a)\n",
    "            imPxAccess = im.load()\n",
    "            draw = ImageDraw.Draw(im)\n",
    "            tupVerts = map(tuple,verts)\n",
    "            draw.polygon( tupVerts, outline=b,fill=b )\n",
    "            tempObject[:,j] = np.array(im.getdata())\n",
    "            im.save('image_' + str(j+c*3000) + '.png')\n",
    "        \n",
    "        c = c+1\n",
    "    cc = cc+2\n",
    "\n",
    "#Triangles1 = tempObject\n",
    "\n",
    "#randint(14,21) for trianges\n",
    "#randint(12,19) for tetragons\n",
    "#randint(11,17) for pentagons"
   ]
  },
  {
   "cell_type": "code",
   "execution_count": null,
   "metadata": {},
   "outputs": [],
   "source": [
    "# V6 just V5 but not filled \n",
    "# Generate Datasets PolygonImages V5 translational invariance - not generated yet\n",
    "# *** This can be useful to figre out convNet from fullyconnectedNet ***\n",
    "tempObject=np.zeros((3600,3000))\n",
    "a=255\n",
    "b=0\n",
    "for j in range(0,3000):\n",
    "    verts = generatePolygon(30+np.random.randint(-8,8), 30+np.random.randint(-8,8), np.random.randint(11,17), 0.5, 0, 5)\n",
    "    im = Image.new('L', (60, 60), a)\n",
    "    imPxAccess = im.load()\n",
    "    draw = ImageDraw.Draw(im)\n",
    "    tupVerts = map(tuple,verts)\n",
    "    draw.polygon( tupVerts, outline=b,fill=a )\n",
    "    tempObject[:,j] = np.array(im.getdata())\n",
    "    im.save('image_' + str(j+15000) + '.png')\n",
    "\n",
    "#Triangles1 = tempObject\n",
    "\n",
    "#randint(14,21) for trianges\n",
    "#randint(12,19) for tetragons\n",
    "#randint(11,17) for pentagons"
   ]
  },
  {
   "cell_type": "code",
   "execution_count": null,
   "metadata": {},
   "outputs": [],
   "source": [
    "# Generate Dataset V7 centered - no inverse - big dataset. modified from V5\n",
    "\n",
    "r=[14,21,12,19,11,17]\n",
    "c=0\n",
    "cc=0\n",
    "for x in range(3,6):\n",
    "        \n",
    "    tempObject=np.zeros((2025,20000))\n",
    "    for j in range(0,20000):\n",
    "        verts = generatePolygon(23, 23, np.random.randint(r[cc],r[cc+1]), 0.5, 0, x)\n",
    "        im = Image.new('L', (45, 45), 0)\n",
    "        imPxAccess = im.load()\n",
    "        draw = ImageDraw.Draw(im)\n",
    "        tupVerts = map(tuple,verts)\n",
    "        draw.polygon( tupVerts, outline=255,fill=255 )\n",
    "        tempObject[:,j] = np.array(im.getdata())\n",
    "        im.save('image_' + str(j+c*20000) + '.png')\n",
    "\n",
    "    c = c+1\n",
    "    cc = cc+2\n",
    "\n",
    "#Triangles1 = tempObject\n",
    "\n",
    "#randint(14,21) for trianges\n",
    "#randint(12,19) for tetragons\n",
    "#randint(11,17) for pentagons"
   ]
  },
  {
   "cell_type": "code",
   "execution_count": null,
   "metadata": {},
   "outputs": [],
   "source": [
    "np.savetxt(\"triangles1\", triangles1)\n",
    "np.savetxt(\"tetragons1\", tetragons1)\n",
    "np.savetxt(\"pentagons1\", pentagons1)\n",
    "np.savetxt(\"triangles2\", triangles2)\n",
    "np.savetxt(\"tetragons2\", tetragons2)\n",
    "np.savetxt(\"pentagons2\", pentagons2)"
   ]
  }
 ],
 "metadata": {
  "kernelspec": {
   "display_name": "Python 3",
   "language": "python",
   "name": "python3"
  },
  "language_info": {
   "codemirror_mode": {
    "name": "ipython",
    "version": 3
   },
   "file_extension": ".py",
   "mimetype": "text/x-python",
   "name": "python",
   "nbconvert_exporter": "python",
   "pygments_lexer": "ipython3",
   "version": "3.7.4-final"
  }
 },
 "nbformat": 4,
 "nbformat_minor": 2
}